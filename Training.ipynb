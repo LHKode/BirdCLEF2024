{
 "cells": [
  {
   "cell_type": "code",
   "execution_count": 1,
   "metadata": {},
   "outputs": [
    {
     "name": "stderr",
     "output_type": "stream",
     "text": [
      "c:\\Users\\hoang\\anaconda3\\envs\\bird\\lib\\site-packages\\tqdm\\auto.py:21: TqdmWarning: IProgress not found. Please update jupyter and ipywidgets. See https://ipywidgets.readthedocs.io/en/stable/user_install.html\n",
      "  from .autonotebook import tqdm as notebook_tqdm\n",
      "c:\\Users\\hoang\\anaconda3\\envs\\bird\\lib\\site-packages\\cupyx\\jit\\_interface.py:173: FutureWarning: cupyx.jit.rawkernel is experimental. The interface can change in the future.\n",
      "  cupy._util.experimental('cupyx.jit.rawkernel')\n"
     ]
    }
   ],
   "source": [
    "import os, random\n",
    "import cv2\n",
    "import math\n",
    "import librosa\n",
    "import matplotlib.pyplot as plt\n",
    "import numpy as np\n",
    "import pandas as pd\n",
    "from tqdm import tqdm\n",
    "\n",
    "from collections import Counter\n",
    "\n",
    "import torch\n",
    "from torch import nn\n",
    "import torch.nn.functional as F\n",
    "from torch.utils.data import WeightedRandomSampler\n",
    "from torchvision.models import efficientnet\n",
    "from torchvision.transforms import transforms\n",
    "# from efficientnet_pytorch import EfficientNet\n",
    "\n",
    "import timm\n",
    "\n",
    "from sklearn.model_selection import StratifiedKFold, StratifiedShuffleSplit, KFold\n",
    "from sklearn.metrics import roc_auc_score\n",
    "from sklearn.preprocessing import LabelEncoder\n",
    "\n",
    "from glob import glob\n",
    "from IPython.display import display, Audio\n",
    "\n",
    "import cupy as cp\n",
    "from cupyx.scipy import signal as cupy_signal\n",
    "import yaml\n",
    "\n",
    "from metric import score\n",
    "\n",
    "import wandb"
   ]
  },
  {
   "cell_type": "code",
   "execution_count": 2,
   "metadata": {},
   "outputs": [
    {
     "name": "stderr",
     "output_type": "stream",
     "text": [
      "Failed to detect the name of this notebook, you can set it manually with the WANDB_NOTEBOOK_NAME environment variable to enable code saving.\n",
      "\u001b[34m\u001b[1mwandb\u001b[0m: Currently logged in as: \u001b[33mlhk\u001b[0m. Use \u001b[1m`wandb login --relogin`\u001b[0m to force relogin\n"
     ]
    },
    {
     "data": {
      "text/plain": [
       "True"
      ]
     },
     "execution_count": 2,
     "metadata": {},
     "output_type": "execute_result"
    }
   ],
   "source": [
    "wandb.login()"
   ]
  },
  {
   "cell_type": "code",
   "execution_count": 3,
   "metadata": {},
   "outputs": [
    {
     "name": "stdout",
     "output_type": "stream",
     "text": [
      "Using device: cuda\n"
     ]
    }
   ],
   "source": [
    "device = torch.device('cuda' if torch.cuda.is_available() else 'cpu')\n",
    "print('Using device:', device)"
   ]
  },
  {
   "cell_type": "code",
   "execution_count": 5,
   "metadata": {},
   "outputs": [
    {
     "data": {
      "text/plain": [
       "{'VERSION': 'v0.7',\n",
       " 'DATA_PATH': 'inputs',\n",
       " 'LOAD_SPEC_DATA': True,\n",
       " 'SEED': 24,\n",
       " 'SAMPLE_RATE': 32000,\n",
       " 'N_FFT': 1095,\n",
       " 'WIN_SIZE': 412,\n",
       " 'WIN_LAP': 100,\n",
       " 'MIN_FREQ': 40,\n",
       " 'MAX_FREQ': 15000,\n",
       " 'EPOCHS': 10,\n",
       " 'FOLD': 5,\n",
       " 'BACTHSIZE': 16,\n",
       " 'LABEL_SMOOTHING': 0.1}"
      ]
     },
     "execution_count": 5,
     "metadata": {},
     "output_type": "execute_result"
    }
   ],
   "source": [
    "default_config = {\n",
    "    \"VERSION\": \"v0.3\",\n",
    "    \"DATA_PATH\": \"inputs\",\n",
    "    \"LOAD_SPEC_DATA\": True,\n",
    "    \"SEED\": 24,\n",
    "    \"SAMPLE_RATE\": 32000,\n",
    "    \"N_FFT\": 1095,\n",
    "    \"WIN_SIZE\": 412,\n",
    "    \"WIN_LAP\": 100,\n",
    "    \"MIN_FREQ\": 40,\n",
    "    \"MAX_FREQ\": 15000,\n",
    "    \"EPOCHS\": 10,\n",
    "    \"BACHSIZE\": 16\n",
    "}\n",
    "\n",
    "try:\n",
    "    with open('config.yaml', 'r') as f:\n",
    "        default_config = yaml.load(f, Loader=yaml.SafeLoader)\n",
    "except:\n",
    "    pass\n",
    "\n",
    "default_config"
   ]
  },
  {
   "cell_type": "code",
   "execution_count": null,
   "metadata": {},
   "outputs": [],
   "source": [
    "# Reproducibility\n",
    "torch.manual_seed(default_config[\"SEED\"])\n",
    "random.seed(default_config[\"SEED\"])\n",
    "np.random.seed(default_config[\"SEED\"])"
   ]
  },
  {
   "cell_type": "code",
   "execution_count": 6,
   "metadata": {},
   "outputs": [],
   "source": [
    "def oog2spec_via_cupy(audio_data):\n",
    "    \n",
    "    audio_data = cp.array(audio_data)\n",
    "    \n",
    "    # handles NaNs\n",
    "    mean_signal = cp.nanmean(audio_data)\n",
    "    audio_data = cp.nan_to_num(audio_data, nan=mean_signal) if cp.isnan(audio_data).mean() < 1 else cp.zeros_like(audio_data)\n",
    "    \n",
    "    # to spec.\n",
    "    frequencies, times, spec_data = cupy_signal.spectrogram(\n",
    "        audio_data, \n",
    "        fs=default_config[\"SAMPLE_RATE\"], \n",
    "        nfft=default_config[\"N_FFT\"], \n",
    "        nperseg=default_config[\"WIN_SIZE\"], \n",
    "        noverlap=default_config[\"WIN_LAP\"], \n",
    "        window='hann'\n",
    "    )\n",
    "    \n",
    "    # Filter frequency range\n",
    "    valid_freq = (frequencies >= default_config[\"MIN_FREQ\"]) & (frequencies <= default_config[\"MAX_FREQ\"])\n",
    "    spec_data = spec_data[valid_freq, :]\n",
    "    \n",
    "    # Log\n",
    "    spec_data = cp.log10(spec_data + 1e-20)\n",
    "    \n",
    "    # min/max normalize\n",
    "    spec_data = spec_data - spec_data.min()\n",
    "    spec_data = spec_data / spec_data.max()\n",
    "    \n",
    "    return spec_data.get()"
   ]
  },
  {
   "cell_type": "code",
   "execution_count": 7,
   "metadata": {},
   "outputs": [
    {
     "data": {
      "text/html": [
       "<div>\n",
       "<style scoped>\n",
       "    .dataframe tbody tr th:only-of-type {\n",
       "        vertical-align: middle;\n",
       "    }\n",
       "\n",
       "    .dataframe tbody tr th {\n",
       "        vertical-align: top;\n",
       "    }\n",
       "\n",
       "    .dataframe thead th {\n",
       "        text-align: right;\n",
       "    }\n",
       "</style>\n",
       "<table border=\"1\" class=\"dataframe\">\n",
       "  <thead>\n",
       "    <tr style=\"text-align: right;\">\n",
       "      <th></th>\n",
       "      <th>primary_label</th>\n",
       "      <th>secondary_labels</th>\n",
       "      <th>type</th>\n",
       "      <th>latitude</th>\n",
       "      <th>longitude</th>\n",
       "      <th>scientific_name</th>\n",
       "      <th>common_name</th>\n",
       "      <th>author</th>\n",
       "      <th>license</th>\n",
       "      <th>rating</th>\n",
       "      <th>url</th>\n",
       "      <th>filename</th>\n",
       "    </tr>\n",
       "  </thead>\n",
       "  <tbody>\n",
       "    <tr>\n",
       "      <th>0</th>\n",
       "      <td>asbfly</td>\n",
       "      <td>[]</td>\n",
       "      <td>['call']</td>\n",
       "      <td>39.2297</td>\n",
       "      <td>118.1987</td>\n",
       "      <td>Muscicapa dauurica</td>\n",
       "      <td>Asian Brown Flycatcher</td>\n",
       "      <td>Matt Slaymaker</td>\n",
       "      <td>Creative Commons Attribution-NonCommercial-Sha...</td>\n",
       "      <td>5.0</td>\n",
       "      <td>https://www.xeno-canto.org/134896</td>\n",
       "      <td>asbfly/XC134896.ogg</td>\n",
       "    </tr>\n",
       "    <tr>\n",
       "      <th>1</th>\n",
       "      <td>asbfly</td>\n",
       "      <td>[]</td>\n",
       "      <td>['song']</td>\n",
       "      <td>51.4030</td>\n",
       "      <td>104.6401</td>\n",
       "      <td>Muscicapa dauurica</td>\n",
       "      <td>Asian Brown Flycatcher</td>\n",
       "      <td>Magnus Hellström</td>\n",
       "      <td>Creative Commons Attribution-NonCommercial-Sha...</td>\n",
       "      <td>2.5</td>\n",
       "      <td>https://www.xeno-canto.org/164848</td>\n",
       "      <td>asbfly/XC164848.ogg</td>\n",
       "    </tr>\n",
       "    <tr>\n",
       "      <th>2</th>\n",
       "      <td>asbfly</td>\n",
       "      <td>[]</td>\n",
       "      <td>['song']</td>\n",
       "      <td>36.3319</td>\n",
       "      <td>127.3555</td>\n",
       "      <td>Muscicapa dauurica</td>\n",
       "      <td>Asian Brown Flycatcher</td>\n",
       "      <td>Stuart Fisher</td>\n",
       "      <td>Creative Commons Attribution-NonCommercial-Sha...</td>\n",
       "      <td>2.5</td>\n",
       "      <td>https://www.xeno-canto.org/175797</td>\n",
       "      <td>asbfly/XC175797.ogg</td>\n",
       "    </tr>\n",
       "    <tr>\n",
       "      <th>3</th>\n",
       "      <td>asbfly</td>\n",
       "      <td>[]</td>\n",
       "      <td>['call']</td>\n",
       "      <td>21.1697</td>\n",
       "      <td>70.6005</td>\n",
       "      <td>Muscicapa dauurica</td>\n",
       "      <td>Asian Brown Flycatcher</td>\n",
       "      <td>vir joshi</td>\n",
       "      <td>Creative Commons Attribution-NonCommercial-Sha...</td>\n",
       "      <td>4.0</td>\n",
       "      <td>https://www.xeno-canto.org/207738</td>\n",
       "      <td>asbfly/XC207738.ogg</td>\n",
       "    </tr>\n",
       "    <tr>\n",
       "      <th>4</th>\n",
       "      <td>asbfly</td>\n",
       "      <td>[]</td>\n",
       "      <td>['call']</td>\n",
       "      <td>15.5442</td>\n",
       "      <td>73.7733</td>\n",
       "      <td>Muscicapa dauurica</td>\n",
       "      <td>Asian Brown Flycatcher</td>\n",
       "      <td>Albert Lastukhin &amp; Sergei Karpeev</td>\n",
       "      <td>Creative Commons Attribution-NonCommercial-Sha...</td>\n",
       "      <td>4.0</td>\n",
       "      <td>https://www.xeno-canto.org/209218</td>\n",
       "      <td>asbfly/XC209218.ogg</td>\n",
       "    </tr>\n",
       "    <tr>\n",
       "      <th>5</th>\n",
       "      <td>asbfly</td>\n",
       "      <td>[]</td>\n",
       "      <td>['call']</td>\n",
       "      <td>15.5442</td>\n",
       "      <td>73.7733</td>\n",
       "      <td>Muscicapa dauurica</td>\n",
       "      <td>Asian Brown Flycatcher</td>\n",
       "      <td>Albert Lastukhin &amp; Sergei Karpeev</td>\n",
       "      <td>Creative Commons Attribution-NonCommercial-Sha...</td>\n",
       "      <td>4.0</td>\n",
       "      <td>https://www.xeno-canto.org/209219</td>\n",
       "      <td>asbfly/XC209219.ogg</td>\n",
       "    </tr>\n",
       "    <tr>\n",
       "      <th>6</th>\n",
       "      <td>asbfly</td>\n",
       "      <td>[]</td>\n",
       "      <td>['clicks its bill']</td>\n",
       "      <td>42.5275</td>\n",
       "      <td>130.6920</td>\n",
       "      <td>Muscicapa dauurica</td>\n",
       "      <td>Asian Brown Flycatcher</td>\n",
       "      <td>Albert Lastukhin</td>\n",
       "      <td>Creative Commons Attribution-NonCommercial-Sha...</td>\n",
       "      <td>3.0</td>\n",
       "      <td>https://www.xeno-canto.org/267679</td>\n",
       "      <td>asbfly/XC267679.ogg</td>\n",
       "    </tr>\n",
       "    <tr>\n",
       "      <th>7</th>\n",
       "      <td>asbfly</td>\n",
       "      <td>[]</td>\n",
       "      <td>['call', 'male', 'song']</td>\n",
       "      <td>44.3602</td>\n",
       "      <td>132.7989</td>\n",
       "      <td>Muscicapa dauurica</td>\n",
       "      <td>Asian Brown Flycatcher</td>\n",
       "      <td>Albert Lastukhin</td>\n",
       "      <td>Creative Commons Attribution-NonCommercial-Sha...</td>\n",
       "      <td>4.0</td>\n",
       "      <td>https://www.xeno-canto.org/267680</td>\n",
       "      <td>asbfly/XC267680.ogg</td>\n",
       "    </tr>\n",
       "    <tr>\n",
       "      <th>8</th>\n",
       "      <td>asbfly</td>\n",
       "      <td>[]</td>\n",
       "      <td>['call', 'male', 'song']</td>\n",
       "      <td>44.3602</td>\n",
       "      <td>132.7989</td>\n",
       "      <td>Muscicapa dauurica</td>\n",
       "      <td>Asian Brown Flycatcher</td>\n",
       "      <td>Albert Lastukhin</td>\n",
       "      <td>Creative Commons Attribution-NonCommercial-Sha...</td>\n",
       "      <td>4.0</td>\n",
       "      <td>https://www.xeno-canto.org/267681</td>\n",
       "      <td>asbfly/XC267681.ogg</td>\n",
       "    </tr>\n",
       "    <tr>\n",
       "      <th>9</th>\n",
       "      <td>asbfly</td>\n",
       "      <td>[]</td>\n",
       "      <td>['alarm call']</td>\n",
       "      <td>42.5275</td>\n",
       "      <td>130.6920</td>\n",
       "      <td>Muscicapa dauurica</td>\n",
       "      <td>Asian Brown Flycatcher</td>\n",
       "      <td>Albert Lastukhin</td>\n",
       "      <td>Creative Commons Attribution-NonCommercial-Sha...</td>\n",
       "      <td>4.0</td>\n",
       "      <td>https://www.xeno-canto.org/267682</td>\n",
       "      <td>asbfly/XC267682.ogg</td>\n",
       "    </tr>\n",
       "  </tbody>\n",
       "</table>\n",
       "</div>"
      ],
      "text/plain": [
       "  primary_label secondary_labels                      type  latitude  \\\n",
       "0        asbfly               []                  ['call']   39.2297   \n",
       "1        asbfly               []                  ['song']   51.4030   \n",
       "2        asbfly               []                  ['song']   36.3319   \n",
       "3        asbfly               []                  ['call']   21.1697   \n",
       "4        asbfly               []                  ['call']   15.5442   \n",
       "5        asbfly               []                  ['call']   15.5442   \n",
       "6        asbfly               []       ['clicks its bill']   42.5275   \n",
       "7        asbfly               []  ['call', 'male', 'song']   44.3602   \n",
       "8        asbfly               []  ['call', 'male', 'song']   44.3602   \n",
       "9        asbfly               []            ['alarm call']   42.5275   \n",
       "\n",
       "   longitude     scientific_name             common_name  \\\n",
       "0   118.1987  Muscicapa dauurica  Asian Brown Flycatcher   \n",
       "1   104.6401  Muscicapa dauurica  Asian Brown Flycatcher   \n",
       "2   127.3555  Muscicapa dauurica  Asian Brown Flycatcher   \n",
       "3    70.6005  Muscicapa dauurica  Asian Brown Flycatcher   \n",
       "4    73.7733  Muscicapa dauurica  Asian Brown Flycatcher   \n",
       "5    73.7733  Muscicapa dauurica  Asian Brown Flycatcher   \n",
       "6   130.6920  Muscicapa dauurica  Asian Brown Flycatcher   \n",
       "7   132.7989  Muscicapa dauurica  Asian Brown Flycatcher   \n",
       "8   132.7989  Muscicapa dauurica  Asian Brown Flycatcher   \n",
       "9   130.6920  Muscicapa dauurica  Asian Brown Flycatcher   \n",
       "\n",
       "                              author  \\\n",
       "0                     Matt Slaymaker   \n",
       "1                   Magnus Hellström   \n",
       "2                      Stuart Fisher   \n",
       "3                          vir joshi   \n",
       "4  Albert Lastukhin & Sergei Karpeev   \n",
       "5  Albert Lastukhin & Sergei Karpeev   \n",
       "6                   Albert Lastukhin   \n",
       "7                   Albert Lastukhin   \n",
       "8                   Albert Lastukhin   \n",
       "9                   Albert Lastukhin   \n",
       "\n",
       "                                             license  rating  \\\n",
       "0  Creative Commons Attribution-NonCommercial-Sha...     5.0   \n",
       "1  Creative Commons Attribution-NonCommercial-Sha...     2.5   \n",
       "2  Creative Commons Attribution-NonCommercial-Sha...     2.5   \n",
       "3  Creative Commons Attribution-NonCommercial-Sha...     4.0   \n",
       "4  Creative Commons Attribution-NonCommercial-Sha...     4.0   \n",
       "5  Creative Commons Attribution-NonCommercial-Sha...     4.0   \n",
       "6  Creative Commons Attribution-NonCommercial-Sha...     3.0   \n",
       "7  Creative Commons Attribution-NonCommercial-Sha...     4.0   \n",
       "8  Creative Commons Attribution-NonCommercial-Sha...     4.0   \n",
       "9  Creative Commons Attribution-NonCommercial-Sha...     4.0   \n",
       "\n",
       "                                 url             filename  \n",
       "0  https://www.xeno-canto.org/134896  asbfly/XC134896.ogg  \n",
       "1  https://www.xeno-canto.org/164848  asbfly/XC164848.ogg  \n",
       "2  https://www.xeno-canto.org/175797  asbfly/XC175797.ogg  \n",
       "3  https://www.xeno-canto.org/207738  asbfly/XC207738.ogg  \n",
       "4  https://www.xeno-canto.org/209218  asbfly/XC209218.ogg  \n",
       "5  https://www.xeno-canto.org/209219  asbfly/XC209219.ogg  \n",
       "6  https://www.xeno-canto.org/267679  asbfly/XC267679.ogg  \n",
       "7  https://www.xeno-canto.org/267680  asbfly/XC267680.ogg  \n",
       "8  https://www.xeno-canto.org/267681  asbfly/XC267681.ogg  \n",
       "9  https://www.xeno-canto.org/267682  asbfly/XC267682.ogg  "
      ]
     },
     "execution_count": 7,
     "metadata": {},
     "output_type": "execute_result"
    }
   ],
   "source": [
    "meta_data = pd.read_csv(f\"{default_config['DATA_PATH']}/train_metadata.csv\")\n",
    "meta_data.head(10)"
   ]
  },
  {
   "cell_type": "code",
   "execution_count": 8,
   "metadata": {},
   "outputs": [
    {
     "data": {
      "text/plain": [
       "{0: 15.262465631176935,\n",
       " 1: 14.97980291635521,\n",
       " 2: 15.961868624944888,\n",
       " 3: 23.313801348843423,\n",
       " 4: 9.430896997731349,\n",
       " 5: 69.94140404653027,\n",
       " 6: 30.671334650301233,\n",
       " 7: 30.671334650301233,\n",
       " 8: 34.97070202326513,\n",
       " 9: 6.994140404653026,\n",
       " 10: 6.994140404653026,\n",
       " 11: 31.923737249889776,\n",
       " 12: 29.041587303442082,\n",
       " 13: 9.553267785063618,\n",
       " 14: 6.994140404653026,\n",
       " 15: 13.988280809306053,\n",
       " 16: 63.84747449977955,\n",
       " 17: 10.28995222938945,\n",
       " 18: 13.17072834380783,\n",
       " 19: 11.890395405123137,\n",
       " 20: 6.994140404653026,\n",
       " 21: 59.111275211611336,\n",
       " 22: 23.577242494328374,\n",
       " 23: 43.375817438539855,\n",
       " 24: 16.864370036979917,\n",
       " 25: 37.93105200073355,\n",
       " 26: 14.159223374090015,\n",
       " 27: 12.76949489995591,\n",
       " 28: 14.647615218148903,\n",
       " 29: 34.97070202326513,\n",
       " 30: 17.595669778008137,\n",
       " 31: 20.71485609792872,\n",
       " 32: 28.089143810376278,\n",
       " 33: 10.79219294543183,\n",
       " 34: 33.343256098838445,\n",
       " 35: 17.93959161654526,\n",
       " 36: 27.646767442144117,\n",
       " 37: 6.994140404653026,\n",
       " 38: 10.568109173681417,\n",
       " 39: 6.994140404653026,\n",
       " 40: 6.994140404653026,\n",
       " 41: 10.15886468290476,\n",
       " 42: 18.692626506574342,\n",
       " 43: 6.994140404653026,\n",
       " 44: 6.994140404653026,\n",
       " 45: 8.999448106698853,\n",
       " 46: 14.044571905188139,\n",
       " 47: 31.923737249889776,\n",
       " 48: 24.728020543504893,\n",
       " 49: 43.375817438539855,\n",
       " 50: 12.643684000244518,\n",
       " 51: 33.343256098838445,\n",
       " 52: 59.111275211611336,\n",
       " 53: 6.994140404653026,\n",
       " 54: 21.482331485146947,\n",
       " 55: 6.994140404653026,\n",
       " 56: 31.923737249889776,\n",
       " 57: 6.994140404653026,\n",
       " 58: 23.577242494328374,\n",
       " 59: 12.249702638183768,\n",
       " 60: 15.11915292093869,\n",
       " 61: 23.05899805508357,\n",
       " 62: 6.994140404653026,\n",
       " 63: 19.106535570127235,\n",
       " 64: 12.249702638183768,\n",
       " 65: 9.41379653579741,\n",
       " 66: 20.535503318685038,\n",
       " 67: 25.710971472390032,\n",
       " 68: 21.89950308326921,\n",
       " 69: 24.42459775737885,\n",
       " 70: 6.994140404653026,\n",
       " 71: 6.994140404653026,\n",
       " 72: 13.124270603475052,\n",
       " 73: 9.379872834345315,\n",
       " 74: 20.898991773357324,\n",
       " 75: 34.97070202326513,\n",
       " 76: 6.994140404653026,\n",
       " 77: 14.583790883091375,\n",
       " 78: 10.616698437569267,\n",
       " 79: 33.343256098838445,\n",
       " 80: 6.994140404653026,\n",
       " 81: 13.265143375666108,\n",
       " 82: 6.994140404653026,\n",
       " 83: 20.3607298993405,\n",
       " 84: 20.024165728308237,\n",
       " 85: 23.577242494328374,\n",
       " 86: 26.435365921972245,\n",
       " 87: 45.14698218042929,\n",
       " 88: 24.728020543504893,\n",
       " 89: 43.375817438539855,\n",
       " 90: 19.703758403870445,\n",
       " 91: 26.06562231497009,\n",
       " 92: 69.94140404653027,\n",
       " 93: 39.098433472455135,\n",
       " 94: 35.87918323309052,\n",
       " 95: 17.595669778008137,\n",
       " 96: 40.38068845376463,\n",
       " 97: 22.341961984260077,\n",
       " 98: 9.500242762483781,\n",
       " 99: 41.79798354671465,\n",
       " 100: 10.202002306597944,\n",
       " 101: 14.71228491545852,\n",
       " 102: 16.48534702900326,\n",
       " 103: 33.343256098838445,\n",
       " 104: 27.22465460169914,\n",
       " 105: 6.994140404653026,\n",
       " 106: 7.77126711628114,\n",
       " 107: 6.994140404653026,\n",
       " 108: 14.101548090071011,\n",
       " 109: 17.822720068759164,\n",
       " 110: 34.97070202326513,\n",
       " 111: 28.553458634638293,\n",
       " 112: 34.97070202326513,\n",
       " 113: 37.93105200073355,\n",
       " 114: 49.45604108700979,\n",
       " 115: 16.305173892117004,\n",
       " 116: 23.05899805508357,\n",
       " 117: 30.097988120286193,\n",
       " 118: 55.293534884288235,\n",
       " 119: 69.94140404653027,\n",
       " 120: 14.583790883091375,\n",
       " 121: 24.42459775737885,\n",
       " 122: 18.560521483688944,\n",
       " 123: 22.812370664162657,\n",
       " 124: 59.111275211611336,\n",
       " 125: 16.577702636948857,\n",
       " 126: 13.361618416768549,\n",
       " 127: 25.370413767552986,\n",
       " 128: 34.97070202326513,\n",
       " 129: 12.561846997953765,\n",
       " 130: 29.555637605805668,\n",
       " 131: 52.13124462994018,\n",
       " 132: 9.448090990124102,\n",
       " 133: 20.898991773357324,\n",
       " 134: 13.988280809306053,\n",
       " 135: 25.04303987446105,\n",
       " 136: 10.449495886678662,\n",
       " 137: 39.098433472455135,\n",
       " 138: 11.114418699612816,\n",
       " 139: 15.561758153617578,\n",
       " 140: 11.375970218521953,\n",
       " 141: 13.46022948458821,\n",
       " 142: 11.03116345469412,\n",
       " 143: 7.631232815588468,\n",
       " 144: 20.190344226882313,\n",
       " 145: 37.93105200073355,\n",
       " 146: 13.877699779902374,\n",
       " 147: 22.341961984260077,\n",
       " 148: 55.293534884288235,\n",
       " 149: 31.278746777964106,\n",
       " 150: 45.14698218042929,\n",
       " 151: 15.961868624944888,\n",
       " 152: 34.97070202326513,\n",
       " 153: 24.13207705227925,\n",
       " 154: 23.313801348843423,\n",
       " 155: 12.561846997953765,\n",
       " 156: 26.435365921972245,\n",
       " 157: 31.923737249889776,\n",
       " 158: 14.159223374090015,\n",
       " 159: 34.97070202326513,\n",
       " 160: 15.485287134795364,\n",
       " 161: 15.335667325150617,\n",
       " 162: 34.127910655565856,\n",
       " 163: 24.42459775737885,\n",
       " 164: 26.06562231497009,\n",
       " 165: 59.111275211611336,\n",
       " 166: 9.465379368699734,\n",
       " 167: 21.687908719269927,\n",
       " 168: 33.343256098838445,\n",
       " 169: 34.127910655565856,\n",
       " 170: 26.821304087258255,\n",
       " 171: 12.102110470670452,\n",
       " 172: 18.058792872171715,\n",
       " 173: 20.898991773357324,\n",
       " 174: 10.403156430469272,\n",
       " 175: 19.703758403870445,\n",
       " 176: 11.498295995964394,\n",
       " 177: 6.994140404653026,\n",
       " 178: 63.84747449977955,\n",
       " 179: 29.555637605805668,\n",
       " 180: 28.553458634638293,\n",
       " 181: 6.994140404653026}"
      ]
     },
     "execution_count": 8,
     "metadata": {},
     "output_type": "execute_result"
    }
   ],
   "source": [
    "meta_data = meta_data[[\"primary_label\", \"filename\"]]\n",
    "\n",
    "label_list = sorted(meta_data[\"primary_label\"].unique())\n",
    "label_id_list = list(range(len(label_list)))\n",
    "label2id = dict(zip(label_list, label_id_list))\n",
    "id2label = dict(zip(label_id_list, label_list))\n",
    "\n",
    "class_weights = meta_data.groupby([\"primary_label\"]).size().to_dict()\n",
    "class_weights = dict((label2id[label], (num/len(meta_data))**(-0.5)) for (label, num) in class_weights.items())\n",
    "class_weights\n"
   ]
  },
  {
   "cell_type": "code",
   "execution_count": 9,
   "metadata": {},
   "outputs": [
    {
     "data": {
      "text/plain": [
       "{'asiope1': 5,\n",
       " 'integr': 5,\n",
       " 'niwpig1': 5,\n",
       " 'blaeag1': 6,\n",
       " 'wynlau1': 6,\n",
       " 'bncwoo3': 7,\n",
       " 'darter2': 7,\n",
       " 'paisto1': 7,\n",
       " 'wbbfly1': 7,\n",
       " 'nilfly2': 8,\n",
       " 'rutfly6': 8,\n",
       " 'pomgrp2': 9,\n",
       " 'malwoo1': 10,\n",
       " 'indtit1': 12,\n",
       " 'scamin3': 12,\n",
       " 'brasta1': 13,\n",
       " 'crfbar1': 13,\n",
       " 'inpher1': 13,\n",
       " 'kerlau2': 14,\n",
       " 'junmyn1': 15,\n",
       " 'isbduc1': 16,\n",
       " 'redspu1': 16,\n",
       " 'brfowl1': 17,\n",
       " 'maltro1': 17,\n",
       " 'rufbab3': 17,\n",
       " 'jerbus2': 19,\n",
       " 'barfly1': 20,\n",
       " 'brwjac1': 20,\n",
       " 'grynig2': 20,\n",
       " 'lobsun2': 20,\n",
       " 'malpar1': 20,\n",
       " 'plaflo1': 20,\n",
       " 'smamin1': 20,\n",
       " 'sttwoo1': 20,\n",
       " 'tilwar1': 21,\n",
       " 'whbtre1': 21,\n",
       " 'chbeat1': 22,\n",
       " 'dafbab1': 22,\n",
       " 'heswoo1': 22,\n",
       " 'lesyel1': 22,\n",
       " 'whbsho3': 22,\n",
       " 'bkcbul1': 24,\n",
       " 'crbsun2': 24,\n",
       " 'eurbla2': 24,\n",
       " 'sqtbul1': 24,\n",
       " 'sbeowl1': 25,\n",
       " 'aspfly1': 26,\n",
       " 'aspswi1': 26,\n",
       " 'moipig1': 27,\n",
       " 'plhpar1': 28,\n",
       " 'yebbab1': 28,\n",
       " 'bkrfla1': 29,\n",
       " 'maghor2': 30,\n",
       " 'yebbul3': 30,\n",
       " 'bwfshr1': 31,\n",
       " 'comfla1': 32,\n",
       " 'lewduc1': 33,\n",
       " 'whbwag1': 34,\n",
       " 'indrol2': 35,\n",
       " 'spoowl1': 35,\n",
       " 'insowl1': 36,\n",
       " 'vehpar1': 36,\n",
       " 'grehor1': 37,\n",
       " 'placuc3': 38,\n",
       " 'purswa3': 39,\n",
       " 'cregos1': 40,\n",
       " 'ingori1': 40,\n",
       " 'grenig1': 41,\n",
       " 'orihob2': 41,\n",
       " 'vefnut1': 41,\n",
       " 'sohmyn1': 42,\n",
       " 'brakit1': 44,\n",
       " 'forwag1': 44,\n",
       " 'indrob1': 44,\n",
       " 'ashwoo2': 45,\n",
       " 'spepic1': 45,\n",
       " 'goflea1': 46,\n",
       " 'mawthr1': 46,\n",
       " 'pabflo1': 47,\n",
       " 'junowl1': 49,\n",
       " 'rufwoo2': 49,\n",
       " 'grejun2': 51,\n",
       " 'whbbul2': 52,\n",
       " 'emedov2': 53,\n",
       " 'gryfra': 56,\n",
       " 'pursun3': 56,\n",
       " 'whcbar1': 56,\n",
       " 'btbeat1': 57,\n",
       " 'grefla1': 58,\n",
       " 'inbrob1': 59,\n",
       " 'rossta2': 60,\n",
       " 'indpit1': 61,\n",
       " 'insbab1': 63,\n",
       " 'whrmun': 63,\n",
       " 'grbeat1': 67,\n",
       " 'compea': 70,\n",
       " 'oripip1': 71,\n",
       " 'whbwoo2': 75,\n",
       " 'cohcuc1': 76,\n",
       " 'litswi1': 77,\n",
       " 'brwowl1': 79,\n",
       " 'junbab2': 79,\n",
       " 'brcful1': 86,\n",
       " 'piebus1': 89,\n",
       " 'lblwar1': 90,\n",
       " 'marsan': 92,\n",
       " 'ashpri1': 96,\n",
       " 'shikra1': 96,\n",
       " 'revbul': 101,\n",
       " 'thbwar1': 102,\n",
       " 'tibfly3': 104,\n",
       " 'asbfly': 105,\n",
       " 'gloibi': 107,\n",
       " 'ashdro1': 109,\n",
       " 'laudov1': 113,\n",
       " 'brodro1': 114,\n",
       " 'gybpri1': 115,\n",
       " 'nutman': 115,\n",
       " 'brnhao1': 122,\n",
       " 'stbkin1': 122,\n",
       " 'litspi1': 123,\n",
       " 'copbar1': 124,\n",
       " 'bladro1': 125,\n",
       " 'pursun4': 125,\n",
       " 'ruftre2': 127,\n",
       " 'rewlap1': 135,\n",
       " 'piekin1': 137,\n",
       " 'houcro1': 139,\n",
       " 'blhori1': 141,\n",
       " 'grnwar1': 142,\n",
       " 'brnshr': 150,\n",
       " 'crseag1': 153,\n",
       " 'plapri1': 155,\n",
       " 'spodov': 155,\n",
       " 'gargan': 163,\n",
       " 'grecou1': 163,\n",
       " 'whbwat1': 167,\n",
       " 'blnmon1': 173,\n",
       " 'whtkin2': 185,\n",
       " 'rewbul': 189,\n",
       " 'rerswa1': 198,\n",
       " 'rocpig': 201,\n",
       " 'categr': 210,\n",
       " 'gyhcaf1': 217,\n",
       " 'comior1': 219,\n",
       " 'putbab1': 224,\n",
       " 'whiter2': 226,\n",
       " 'blakit1': 231,\n",
       " 'labcro1': 235,\n",
       " 'commyn': 237,\n",
       " 'bkskit1': 268,\n",
       " 'kenplo1': 271,\n",
       " 'wemhar1': 273,\n",
       " 'purher1': 274,\n",
       " 'asikoe2': 275,\n",
       " 'greegr': 276,\n",
       " 'grtdro1': 278,\n",
       " 'comtai1': 302,\n",
       " 'litegr': 405,\n",
       " 'rorpar': 420,\n",
       " 'barswa': 500,\n",
       " 'bcnher': 500,\n",
       " 'bkwsti': 500,\n",
       " 'blrwar1': 500,\n",
       " 'comgre': 500,\n",
       " 'comkin1': 500,\n",
       " 'commoo3': 500,\n",
       " 'comros': 500,\n",
       " 'comsan': 500,\n",
       " 'eaywag1': 500,\n",
       " 'eucdov': 500,\n",
       " 'eurcoo': 500,\n",
       " 'graher1': 500,\n",
       " 'grewar3': 500,\n",
       " 'grnsan': 500,\n",
       " 'grywag': 500,\n",
       " 'hoopoe': 500,\n",
       " 'houspa': 500,\n",
       " 'lirplo': 500,\n",
       " 'litgre1': 500,\n",
       " 'woosan': 500,\n",
       " 'zitcis1': 500}"
      ]
     },
     "execution_count": 9,
     "metadata": {},
     "output_type": "execute_result"
    }
   ],
   "source": [
    "list_audio = glob(\"inputs/train_audio/*/*.ogg\")\n",
    "audio_count = dict.fromkeys(label_list,0)\n",
    "for audio in list_audio:\n",
    "    audio_count[audio.split(\"\\\\\")[-2]] +=1\n",
    "\n",
    "audio_count = dict(sorted(audio_count.items(), key=lambda item: item[1]))\n",
    "audio_count"
   ]
  },
  {
   "cell_type": "code",
   "execution_count": 10,
   "metadata": {},
   "outputs": [],
   "source": [
    "if default_config[\"LOAD_SPEC_DATA\"]:\n",
    "        all_bird_data = np.load(f'data/spec_center_5sec_256_256.npy', allow_pickle=True).item()\n",
    "else:\n",
    "        all_bird_data = dict()\n",
    "\n",
    "        for i, row_metadata in tqdm(meta_data.iterrows()):\n",
    "\n",
    "                # load ogg\n",
    "                audio_data, _ = librosa.load(f\"{default_config['DATA_PATH']}/train_audio/{row_metadata.filename}\", sr=default_config[\"SAMPLE_RATE\"])\n",
    "\n",
    "                # crop\n",
    "                n_copy = math.ceil(5 * default_config[\"SAMPLE_RATE\"] / len(audio_data))\n",
    "                if n_copy > 1: audio_data = np.concatenate([audio_data]*n_copy)\n",
    "\n",
    "                start_idx = int(len(audio_data) / 2 - 2.5 * default_config[\"SAMPLE_RATE\"])\n",
    "                end_idx = int(start_idx + 5.0 * default_config[\"SAMPLE_RATE\"])\n",
    "                input_audio = audio_data[start_idx:end_idx]\n",
    "\n",
    "                # ogg to spec.\n",
    "                input_spec = oog2spec_via_cupy(input_audio)\n",
    "\n",
    "                input_spec = cv2.resize(input_spec, (256, 256), interpolation=cv2.INTER_AREA)\n",
    "\n",
    "                all_bird_data[row_metadata.filename] = input_spec.astype(np.float32)\n",
    "        # save to file\n",
    "        np.save(os.path.join(\"data\", f'spec_center_5sec_256_256.npy'), all_bird_data)"
   ]
  },
  {
   "cell_type": "code",
   "execution_count": 11,
   "metadata": {},
   "outputs": [],
   "source": [
    "class BirdCLEF_Dataset(torch.utils.data.Dataset):\n",
    "    def __init__(self, df_data):\n",
    "        super(BirdCLEF_Dataset).__init__()\n",
    "        self.df_data = df_data\n",
    "\n",
    "    def __len__(self):\n",
    "        return len(self.df_data)\n",
    "    \n",
    "    def __getitem__(self, index):\n",
    "        X = all_bird_data[self.df_data.iloc[index].filename]\n",
    "        y = label2id[self.df_data.iloc[index].filename.split(\"/\")[0]]\n",
    "\n",
    "        return torch.tensor(X, dtype=torch.float32), torch.tensor(y, dtype=torch.long)"
   ]
  },
  {
   "cell_type": "code",
   "execution_count": 12,
   "metadata": {},
   "outputs": [],
   "source": [
    "class BirdCLEF_Model_EfficientnetB0(nn.Module):\n",
    "    def __init__(self, num_class):\n",
    "        super(BirdCLEF_Model_EfficientnetB0, self).__init__()\n",
    "        \n",
    "        # self.backbone = efficientnet.efficientnet_b0(weights=efficientnet.EfficientNet_B0_Weights.DEFAULT)\n",
    "        # self.backbone.classifier[1] = nn.Linear(self.backbone.classifier[1].in_features, num_class, dtype=torch.float32)\n",
    "        self.backbone = timm.create_model('tf_efficientnet_b0.in1k', pretrained=True, num_classes=num_class)\n",
    "    \n",
    "    def forward(self, x):\n",
    "        x = x.unsqueeze(-1)\n",
    "        x = torch.cat([x, x, x], dim=3).permute(0,3,1,2)\n",
    "        x = self.backbone(x)\n",
    "        return x"
   ]
  },
  {
   "cell_type": "code",
   "execution_count": 14,
   "metadata": {},
   "outputs": [],
   "source": [
    "ssk = StratifiedKFold(n_splits=default_config[\"FOLD\"], shuffle=True, random_state=default_config[\"SEED\"])\n",
    "meta_data['fold'] = 0\n",
    "for fold, (train_idx, val_idx) in enumerate(ssk.split(np.zeros(len(meta_data)), meta_data[\"primary_label\"].to_numpy())):\n",
    "    meta_data.loc[val_idx, 'fold'] = fold"
   ]
  },
  {
   "cell_type": "code",
   "execution_count": 17,
   "metadata": {},
   "outputs": [
    {
     "name": "stderr",
     "output_type": "stream",
     "text": [
      "\u001b[34m\u001b[1mwandb\u001b[0m: Currently logged in as: \u001b[33mlhk\u001b[0m (\u001b[33mKaay\u001b[0m). Use \u001b[1m`wandb login --relogin`\u001b[0m to force relogin\n"
     ]
    },
    {
     "data": {
      "text/html": [
       "Tracking run with wandb version 0.16.6"
      ],
      "text/plain": [
       "<IPython.core.display.HTML object>"
      ]
     },
     "metadata": {},
     "output_type": "display_data"
    },
    {
     "data": {
      "text/html": [
       "Run data is saved locally in <code>e:\\LHK\\Study\\Kaggle\\BirdCLEF2024\\wandb\\run-20240419_202009-p01ni6ba</code>"
      ],
      "text/plain": [
       "<IPython.core.display.HTML object>"
      ]
     },
     "metadata": {},
     "output_type": "display_data"
    },
    {
     "data": {
      "text/html": [
       "Syncing run <strong><a href='https://wandb.ai/Kaay/BirdCLEF2024_LeviKaay/runs/p01ni6ba' target=\"_blank\">BaseModel_EfficientB0_Fold0_v0.7</a></strong> to <a href='https://wandb.ai/Kaay/BirdCLEF2024_LeviKaay' target=\"_blank\">Weights & Biases</a> (<a href='https://wandb.me/run' target=\"_blank\">docs</a>)<br/>"
      ],
      "text/plain": [
       "<IPython.core.display.HTML object>"
      ]
     },
     "metadata": {},
     "output_type": "display_data"
    },
    {
     "data": {
      "text/html": [
       " View project at <a href='https://wandb.ai/Kaay/BirdCLEF2024_LeviKaay' target=\"_blank\">https://wandb.ai/Kaay/BirdCLEF2024_LeviKaay</a>"
      ],
      "text/plain": [
       "<IPython.core.display.HTML object>"
      ]
     },
     "metadata": {},
     "output_type": "display_data"
    },
    {
     "data": {
      "text/html": [
       " View run at <a href='https://wandb.ai/Kaay/BirdCLEF2024_LeviKaay/runs/p01ni6ba' target=\"_blank\">https://wandb.ai/Kaay/BirdCLEF2024_LeviKaay/runs/p01ni6ba</a>"
      ],
      "text/plain": [
       "<IPython.core.display.HTML object>"
      ]
     },
     "metadata": {},
     "output_type": "display_data"
    },
    {
     "name": "stdout",
     "output_type": "stream",
     "text": [
      "================================================================\n",
      "==== Running training for fold 0 ====\n",
      "Train Samples: 19567\n",
      "Valid Samples: 4892\n",
      "Epoch 1/10, train_loss: 4.7200, valid_loss: 5.1949 valid_roc_auc: 0.6892, lr: [4.762017696620708e-05]\n",
      "Epoch 2/10, train_loss: 2.5456, valid_loss: 4.9934 valid_roc_auc: 0.9101, lr: [0.00012924034395422874]\n",
      "Epoch 3/10, train_loss: 1.6466, valid_loss: 4.9195 valid_roc_auc: 0.9194, lr: [0.00016999999427681298]\n",
      "Epoch 4/10, train_loss: 1.4605, valid_loss: 4.8795 valid_roc_auc: 0.9164, lr: [0.0001615688486050954]\n",
      "Epoch 5/10, train_loss: 1.4952, valid_loss: 4.8715 valid_roc_auc: 0.9159, lr: [0.00013797237075300592]\n",
      "Epoch 6/10, train_loss: 1.0352, valid_loss: 4.8616 valid_roc_auc: 0.9119, lr: [0.00010388413255096036]\n",
      "Epoch 7/10, train_loss: 1.1337, valid_loss: 4.8734 valid_roc_auc: 0.9066, lr: [6.605572763967985e-05]\n",
      "Epoch 8/10, train_loss: 0.9454, valid_loss: 4.8680 valid_roc_auc: 0.9101, lr: [3.197953554678399e-05]\n",
      "Epoch 9/10, train_loss: 1.0734, valid_loss: 4.8722 valid_roc_auc: 0.9108, lr: [8.404764033341025e-06]\n",
      "Epoch 10/10, train_loss: 0.9633, valid_loss: 4.8733 valid_roc_auc: 0.9105, lr: [6.857231870359144e-10]\n"
     ]
    },
    {
     "data": {
      "text/html": [
       "<style>\n",
       "    table.wandb td:nth-child(1) { padding: 0 10px; text-align: left ; width: auto;} td:nth-child(2) {text-align: left ; width: 100%}\n",
       "    .wandb-row { display: flex; flex-direction: row; flex-wrap: wrap; justify-content: flex-start; width: 100% }\n",
       "    .wandb-col { display: flex; flex-direction: column; flex-basis: 100%; flex: 1; padding: 10px; }\n",
       "    </style>\n",
       "<div class=\"wandb-row\"><div class=\"wandb-col\"><h3>Run history:</h3><br/><table class=\"wandb\"><tr><td>Learning Rate</td><td>▁▁▂▂▃▄▅▆▇▇███████▇▇▇▇▆▆▅▅▅▄▄▄▃▃▃▂▂▂▁▁▁▁▁</td></tr><tr><td>Training Loss</td><td>█▄▂▂▂▁▁▁▁▁</td></tr><tr><td>Valid Loss</td><td>█▄▂▁▁▁▁▁▁▁</td></tr><tr><td>Valid ROC_AUC</td><td>▁█████████</td></tr></table><br/></div><div class=\"wandb-col\"><h3>Run summary:</h3><br/><table class=\"wandb\"><tr><td>Learning Rate</td><td>0.0</td></tr><tr><td>Training Loss</td><td>0.96332</td></tr><tr><td>Valid Loss</td><td>4.87335</td></tr><tr><td>Valid ROC_AUC</td><td>0.91051</td></tr></table><br/></div></div>"
      ],
      "text/plain": [
       "<IPython.core.display.HTML object>"
      ]
     },
     "metadata": {},
     "output_type": "display_data"
    },
    {
     "data": {
      "text/html": [
       " View run <strong style=\"color:#cdcd00\">BaseModel_EfficientB0_Fold0_v0.7</strong> at: <a href='https://wandb.ai/Kaay/BirdCLEF2024_LeviKaay/runs/p01ni6ba' target=\"_blank\">https://wandb.ai/Kaay/BirdCLEF2024_LeviKaay/runs/p01ni6ba</a><br/> View project at: <a href='https://wandb.ai/Kaay/BirdCLEF2024_LeviKaay' target=\"_blank\">https://wandb.ai/Kaay/BirdCLEF2024_LeviKaay</a><br/>Synced 6 W&B file(s), 0 media file(s), 0 artifact file(s) and 0 other file(s)"
      ],
      "text/plain": [
       "<IPython.core.display.HTML object>"
      ]
     },
     "metadata": {},
     "output_type": "display_data"
    },
    {
     "data": {
      "text/html": [
       "Find logs at: <code>.\\wandb\\run-20240419_202009-p01ni6ba\\logs</code>"
      ],
      "text/plain": [
       "<IPython.core.display.HTML object>"
      ]
     },
     "metadata": {},
     "output_type": "display_data"
    },
    {
     "data": {
      "text/html": [
       "Tracking run with wandb version 0.16.6"
      ],
      "text/plain": [
       "<IPython.core.display.HTML object>"
      ]
     },
     "metadata": {},
     "output_type": "display_data"
    },
    {
     "data": {
      "text/html": [
       "Run data is saved locally in <code>e:\\LHK\\Study\\Kaggle\\BirdCLEF2024\\wandb\\run-20240419_212721-eli6xvhp</code>"
      ],
      "text/plain": [
       "<IPython.core.display.HTML object>"
      ]
     },
     "metadata": {},
     "output_type": "display_data"
    },
    {
     "data": {
      "text/html": [
       "Syncing run <strong><a href='https://wandb.ai/Kaay/BirdCLEF2024_LeviKaay/runs/eli6xvhp' target=\"_blank\">BaseModel_EfficientB0_Fold1_v0.7</a></strong> to <a href='https://wandb.ai/Kaay/BirdCLEF2024_LeviKaay' target=\"_blank\">Weights & Biases</a> (<a href='https://wandb.me/run' target=\"_blank\">docs</a>)<br/>"
      ],
      "text/plain": [
       "<IPython.core.display.HTML object>"
      ]
     },
     "metadata": {},
     "output_type": "display_data"
    },
    {
     "data": {
      "text/html": [
       " View project at <a href='https://wandb.ai/Kaay/BirdCLEF2024_LeviKaay' target=\"_blank\">https://wandb.ai/Kaay/BirdCLEF2024_LeviKaay</a>"
      ],
      "text/plain": [
       "<IPython.core.display.HTML object>"
      ]
     },
     "metadata": {},
     "output_type": "display_data"
    },
    {
     "data": {
      "text/html": [
       " View run at <a href='https://wandb.ai/Kaay/BirdCLEF2024_LeviKaay/runs/eli6xvhp' target=\"_blank\">https://wandb.ai/Kaay/BirdCLEF2024_LeviKaay/runs/eli6xvhp</a>"
      ],
      "text/plain": [
       "<IPython.core.display.HTML object>"
      ]
     },
     "metadata": {},
     "output_type": "display_data"
    },
    {
     "name": "stdout",
     "output_type": "stream",
     "text": [
      "================================================================\n",
      "==== Running training for fold 1 ====\n",
      "Train Samples: 19567\n",
      "Valid Samples: 4892\n",
      "Epoch 1/10, train_loss: 4.4492, valid_loss: 5.1912 valid_roc_auc: 0.6933, lr: [4.762017696620708e-05]\n",
      "Epoch 2/10, train_loss: 3.0492, valid_loss: 5.0032 valid_roc_auc: 0.9091, lr: [0.00012924034395422874]\n",
      "Epoch 3/10, train_loss: 1.8206, valid_loss: 4.9370 valid_roc_auc: 0.9153, lr: [0.00016999999427681298]\n",
      "Epoch 4/10, train_loss: 1.7194, valid_loss: 4.8975 valid_roc_auc: 0.9209, lr: [0.0001615688486050954]\n",
      "Epoch 5/10, train_loss: 1.2753, valid_loss: 4.8796 valid_roc_auc: 0.9096, lr: [0.00013797237075300592]\n",
      "Epoch 6/10, train_loss: 1.0884, valid_loss: 4.8700 valid_roc_auc: 0.9108, lr: [0.00010388413255096036]\n",
      "Epoch 7/10, train_loss: 1.1489, valid_loss: 4.8706 valid_roc_auc: 0.9115, lr: [6.605572763967985e-05]\n",
      "Epoch 8/10, train_loss: 0.9249, valid_loss: 4.8790 valid_roc_auc: 0.9108, lr: [3.197953554678399e-05]\n",
      "Epoch 9/10, train_loss: 0.9194, valid_loss: 4.8806 valid_roc_auc: 0.9103, lr: [8.404764033341025e-06]\n",
      "Epoch 10/10, train_loss: 0.9243, valid_loss: 4.8811 valid_roc_auc: 0.9093, lr: [6.857231870359144e-10]\n"
     ]
    },
    {
     "data": {
      "text/html": [
       "<style>\n",
       "    table.wandb td:nth-child(1) { padding: 0 10px; text-align: left ; width: auto;} td:nth-child(2) {text-align: left ; width: 100%}\n",
       "    .wandb-row { display: flex; flex-direction: row; flex-wrap: wrap; justify-content: flex-start; width: 100% }\n",
       "    .wandb-col { display: flex; flex-direction: column; flex-basis: 100%; flex: 1; padding: 10px; }\n",
       "    </style>\n",
       "<div class=\"wandb-row\"><div class=\"wandb-col\"><h3>Run history:</h3><br/><table class=\"wandb\"><tr><td>Learning Rate</td><td>▁▁▂▂▃▄▅▆▇▇███████▇▇▇▇▆▆▅▅▅▄▄▄▃▃▃▂▂▂▁▁▁▁▁</td></tr><tr><td>Training Loss</td><td>█▅▃▃▂▁▁▁▁▁</td></tr><tr><td>Valid Loss</td><td>█▄▂▂▁▁▁▁▁▁</td></tr><tr><td>Valid ROC_AUC</td><td>▁█████████</td></tr></table><br/></div><div class=\"wandb-col\"><h3>Run summary:</h3><br/><table class=\"wandb\"><tr><td>Learning Rate</td><td>0.0</td></tr><tr><td>Training Loss</td><td>0.92431</td></tr><tr><td>Valid Loss</td><td>4.88115</td></tr><tr><td>Valid ROC_AUC</td><td>0.90932</td></tr></table><br/></div></div>"
      ],
      "text/plain": [
       "<IPython.core.display.HTML object>"
      ]
     },
     "metadata": {},
     "output_type": "display_data"
    },
    {
     "data": {
      "text/html": [
       " View run <strong style=\"color:#cdcd00\">BaseModel_EfficientB0_Fold1_v0.7</strong> at: <a href='https://wandb.ai/Kaay/BirdCLEF2024_LeviKaay/runs/eli6xvhp' target=\"_blank\">https://wandb.ai/Kaay/BirdCLEF2024_LeviKaay/runs/eli6xvhp</a><br/> View project at: <a href='https://wandb.ai/Kaay/BirdCLEF2024_LeviKaay' target=\"_blank\">https://wandb.ai/Kaay/BirdCLEF2024_LeviKaay</a><br/>Synced 6 W&B file(s), 0 media file(s), 0 artifact file(s) and 0 other file(s)"
      ],
      "text/plain": [
       "<IPython.core.display.HTML object>"
      ]
     },
     "metadata": {},
     "output_type": "display_data"
    },
    {
     "data": {
      "text/html": [
       "Find logs at: <code>.\\wandb\\run-20240419_212721-eli6xvhp\\logs</code>"
      ],
      "text/plain": [
       "<IPython.core.display.HTML object>"
      ]
     },
     "metadata": {},
     "output_type": "display_data"
    },
    {
     "data": {
      "text/html": [
       "Tracking run with wandb version 0.16.6"
      ],
      "text/plain": [
       "<IPython.core.display.HTML object>"
      ]
     },
     "metadata": {},
     "output_type": "display_data"
    },
    {
     "data": {
      "text/html": [
       "Run data is saved locally in <code>e:\\LHK\\Study\\Kaggle\\BirdCLEF2024\\wandb\\run-20240419_223513-s2fr9jg0</code>"
      ],
      "text/plain": [
       "<IPython.core.display.HTML object>"
      ]
     },
     "metadata": {},
     "output_type": "display_data"
    },
    {
     "data": {
      "text/html": [
       "Syncing run <strong><a href='https://wandb.ai/Kaay/BirdCLEF2024_LeviKaay/runs/s2fr9jg0' target=\"_blank\">BaseModel_EfficientB0_Fold2_v0.7</a></strong> to <a href='https://wandb.ai/Kaay/BirdCLEF2024_LeviKaay' target=\"_blank\">Weights & Biases</a> (<a href='https://wandb.me/run' target=\"_blank\">docs</a>)<br/>"
      ],
      "text/plain": [
       "<IPython.core.display.HTML object>"
      ]
     },
     "metadata": {},
     "output_type": "display_data"
    },
    {
     "data": {
      "text/html": [
       " View project at <a href='https://wandb.ai/Kaay/BirdCLEF2024_LeviKaay' target=\"_blank\">https://wandb.ai/Kaay/BirdCLEF2024_LeviKaay</a>"
      ],
      "text/plain": [
       "<IPython.core.display.HTML object>"
      ]
     },
     "metadata": {},
     "output_type": "display_data"
    },
    {
     "data": {
      "text/html": [
       " View run at <a href='https://wandb.ai/Kaay/BirdCLEF2024_LeviKaay/runs/s2fr9jg0' target=\"_blank\">https://wandb.ai/Kaay/BirdCLEF2024_LeviKaay/runs/s2fr9jg0</a>"
      ],
      "text/plain": [
       "<IPython.core.display.HTML object>"
      ]
     },
     "metadata": {},
     "output_type": "display_data"
    },
    {
     "name": "stdout",
     "output_type": "stream",
     "text": [
      "================================================================\n",
      "==== Running training for fold 2 ====\n",
      "Train Samples: 19567\n",
      "Valid Samples: 4892\n",
      "Epoch 1/10, train_loss: 4.3380, valid_loss: 5.1935 valid_roc_auc: 0.6787, lr: [4.762017696620708e-05]\n",
      "Epoch 2/10, train_loss: 3.0960, valid_loss: 5.0184 valid_roc_auc: 0.9030, lr: [0.00012924034395422874]\n",
      "Epoch 3/10, train_loss: 2.6658, valid_loss: 4.9302 valid_roc_auc: 0.9212, lr: [0.00016999999427681298]\n",
      "Epoch 4/10, train_loss: 1.7718, valid_loss: 4.9046 valid_roc_auc: 0.9036, lr: [0.0001615688486050954]\n",
      "Epoch 5/10, train_loss: 1.1036, valid_loss: 4.8774 valid_roc_auc: 0.9139, lr: [0.00013797237075300592]\n",
      "Epoch 6/10, train_loss: 1.2460, valid_loss: 4.8721 valid_roc_auc: 0.9030, lr: [0.00010388413255096036]\n",
      "Epoch 7/10, train_loss: 1.0059, valid_loss: 4.8707 valid_roc_auc: 0.9078, lr: [6.605572763967985e-05]\n",
      "Epoch 8/10, train_loss: 1.0339, valid_loss: 4.8729 valid_roc_auc: 0.9071, lr: [3.197953554678399e-05]\n",
      "Epoch 9/10, train_loss: 0.9092, valid_loss: 4.8794 valid_roc_auc: 0.9047, lr: [8.404764033341025e-06]\n",
      "Epoch 10/10, train_loss: 0.9119, valid_loss: 4.8806 valid_roc_auc: 0.9056, lr: [6.857231870359144e-10]\n"
     ]
    },
    {
     "data": {
      "text/html": [
       "<style>\n",
       "    table.wandb td:nth-child(1) { padding: 0 10px; text-align: left ; width: auto;} td:nth-child(2) {text-align: left ; width: 100%}\n",
       "    .wandb-row { display: flex; flex-direction: row; flex-wrap: wrap; justify-content: flex-start; width: 100% }\n",
       "    .wandb-col { display: flex; flex-direction: column; flex-basis: 100%; flex: 1; padding: 10px; }\n",
       "    </style>\n",
       "<div class=\"wandb-row\"><div class=\"wandb-col\"><h3>Run history:</h3><br/><table class=\"wandb\"><tr><td>Learning Rate</td><td>▁▁▂▂▃▄▅▆▇▇███████▇▇▇▇▆▆▅▅▅▄▄▄▃▃▃▂▂▂▁▁▁▁▁</td></tr><tr><td>Training Loss</td><td>█▅▅▃▁▂▁▁▁▁</td></tr><tr><td>Valid Loss</td><td>█▄▂▂▁▁▁▁▁▁</td></tr><tr><td>Valid ROC_AUC</td><td>▁▇█▇█▇████</td></tr></table><br/></div><div class=\"wandb-col\"><h3>Run summary:</h3><br/><table class=\"wandb\"><tr><td>Learning Rate</td><td>0.0</td></tr><tr><td>Training Loss</td><td>0.91189</td></tr><tr><td>Valid Loss</td><td>4.88059</td></tr><tr><td>Valid ROC_AUC</td><td>0.90559</td></tr></table><br/></div></div>"
      ],
      "text/plain": [
       "<IPython.core.display.HTML object>"
      ]
     },
     "metadata": {},
     "output_type": "display_data"
    },
    {
     "data": {
      "text/html": [
       " View run <strong style=\"color:#cdcd00\">BaseModel_EfficientB0_Fold2_v0.7</strong> at: <a href='https://wandb.ai/Kaay/BirdCLEF2024_LeviKaay/runs/s2fr9jg0' target=\"_blank\">https://wandb.ai/Kaay/BirdCLEF2024_LeviKaay/runs/s2fr9jg0</a><br/> View project at: <a href='https://wandb.ai/Kaay/BirdCLEF2024_LeviKaay' target=\"_blank\">https://wandb.ai/Kaay/BirdCLEF2024_LeviKaay</a><br/>Synced 6 W&B file(s), 0 media file(s), 0 artifact file(s) and 0 other file(s)"
      ],
      "text/plain": [
       "<IPython.core.display.HTML object>"
      ]
     },
     "metadata": {},
     "output_type": "display_data"
    },
    {
     "data": {
      "text/html": [
       "Find logs at: <code>.\\wandb\\run-20240419_223513-s2fr9jg0\\logs</code>"
      ],
      "text/plain": [
       "<IPython.core.display.HTML object>"
      ]
     },
     "metadata": {},
     "output_type": "display_data"
    },
    {
     "data": {
      "text/html": [
       "Tracking run with wandb version 0.16.6"
      ],
      "text/plain": [
       "<IPython.core.display.HTML object>"
      ]
     },
     "metadata": {},
     "output_type": "display_data"
    },
    {
     "data": {
      "text/html": [
       "Run data is saved locally in <code>e:\\LHK\\Study\\Kaggle\\BirdCLEF2024\\wandb\\run-20240419_234211-kbicr8el</code>"
      ],
      "text/plain": [
       "<IPython.core.display.HTML object>"
      ]
     },
     "metadata": {},
     "output_type": "display_data"
    },
    {
     "data": {
      "text/html": [
       "Syncing run <strong><a href='https://wandb.ai/Kaay/BirdCLEF2024_LeviKaay/runs/kbicr8el' target=\"_blank\">BaseModel_EfficientB0_Fold3_v0.7</a></strong> to <a href='https://wandb.ai/Kaay/BirdCLEF2024_LeviKaay' target=\"_blank\">Weights & Biases</a> (<a href='https://wandb.me/run' target=\"_blank\">docs</a>)<br/>"
      ],
      "text/plain": [
       "<IPython.core.display.HTML object>"
      ]
     },
     "metadata": {},
     "output_type": "display_data"
    },
    {
     "data": {
      "text/html": [
       " View project at <a href='https://wandb.ai/Kaay/BirdCLEF2024_LeviKaay' target=\"_blank\">https://wandb.ai/Kaay/BirdCLEF2024_LeviKaay</a>"
      ],
      "text/plain": [
       "<IPython.core.display.HTML object>"
      ]
     },
     "metadata": {},
     "output_type": "display_data"
    },
    {
     "data": {
      "text/html": [
       " View run at <a href='https://wandb.ai/Kaay/BirdCLEF2024_LeviKaay/runs/kbicr8el' target=\"_blank\">https://wandb.ai/Kaay/BirdCLEF2024_LeviKaay/runs/kbicr8el</a>"
      ],
      "text/plain": [
       "<IPython.core.display.HTML object>"
      ]
     },
     "metadata": {},
     "output_type": "display_data"
    },
    {
     "name": "stdout",
     "output_type": "stream",
     "text": [
      "================================================================\n",
      "==== Running training for fold 3 ====\n",
      "Train Samples: 19567\n",
      "Valid Samples: 4892\n",
      "Epoch 1/10, train_loss: 4.9047, valid_loss: 5.1936 valid_roc_auc: 0.6921, lr: [4.762017696620708e-05]\n",
      "Epoch 2/10, train_loss: 3.2327, valid_loss: 5.0075 valid_roc_auc: 0.9074, lr: [0.00012924034395422874]\n",
      "Epoch 3/10, train_loss: 1.5500, valid_loss: 4.9216 valid_roc_auc: 0.9132, lr: [0.00016999999427681298]\n",
      "Epoch 4/10, train_loss: 1.0821, valid_loss: 4.8877 valid_roc_auc: 0.9144, lr: [0.0001615688486050954]\n",
      "Epoch 5/10, train_loss: 1.3709, valid_loss: 4.8750 valid_roc_auc: 0.9150, lr: [0.00013797237075300592]\n",
      "Epoch 6/10, train_loss: 1.4953, valid_loss: 4.8524 valid_roc_auc: 0.9161, lr: [0.00010388413255096036]\n",
      "Epoch 7/10, train_loss: 1.0497, valid_loss: 4.8642 valid_roc_auc: 0.9145, lr: [6.605572763967985e-05]\n",
      "Epoch 8/10, train_loss: 0.9510, valid_loss: 4.8595 valid_roc_auc: 0.9157, lr: [3.197953554678399e-05]\n",
      "Epoch 9/10, train_loss: 0.9322, valid_loss: 4.8693 valid_roc_auc: 0.9145, lr: [8.404764033341025e-06]\n",
      "Epoch 10/10, train_loss: 0.9046, valid_loss: 4.8683 valid_roc_auc: 0.9149, lr: [6.857231870359144e-10]\n"
     ]
    },
    {
     "data": {
      "text/html": [
       "<style>\n",
       "    table.wandb td:nth-child(1) { padding: 0 10px; text-align: left ; width: auto;} td:nth-child(2) {text-align: left ; width: 100%}\n",
       "    .wandb-row { display: flex; flex-direction: row; flex-wrap: wrap; justify-content: flex-start; width: 100% }\n",
       "    .wandb-col { display: flex; flex-direction: column; flex-basis: 100%; flex: 1; padding: 10px; }\n",
       "    </style>\n",
       "<div class=\"wandb-row\"><div class=\"wandb-col\"><h3>Run history:</h3><br/><table class=\"wandb\"><tr><td>Learning Rate</td><td>▁▁▂▂▃▄▅▆▇▇███████▇▇▇▇▆▆▅▅▅▄▄▄▃▃▃▂▂▂▁▁▁▁▁</td></tr><tr><td>Training Loss</td><td>█▅▂▁▂▂▁▁▁▁</td></tr><tr><td>Valid Loss</td><td>█▄▂▂▁▁▁▁▁▁</td></tr><tr><td>Valid ROC_AUC</td><td>▁█████████</td></tr></table><br/></div><div class=\"wandb-col\"><h3>Run summary:</h3><br/><table class=\"wandb\"><tr><td>Learning Rate</td><td>0.0</td></tr><tr><td>Training Loss</td><td>0.90464</td></tr><tr><td>Valid Loss</td><td>4.8683</td></tr><tr><td>Valid ROC_AUC</td><td>0.91489</td></tr></table><br/></div></div>"
      ],
      "text/plain": [
       "<IPython.core.display.HTML object>"
      ]
     },
     "metadata": {},
     "output_type": "display_data"
    },
    {
     "data": {
      "text/html": [
       " View run <strong style=\"color:#cdcd00\">BaseModel_EfficientB0_Fold3_v0.7</strong> at: <a href='https://wandb.ai/Kaay/BirdCLEF2024_LeviKaay/runs/kbicr8el' target=\"_blank\">https://wandb.ai/Kaay/BirdCLEF2024_LeviKaay/runs/kbicr8el</a><br/> View project at: <a href='https://wandb.ai/Kaay/BirdCLEF2024_LeviKaay' target=\"_blank\">https://wandb.ai/Kaay/BirdCLEF2024_LeviKaay</a><br/>Synced 6 W&B file(s), 0 media file(s), 0 artifact file(s) and 0 other file(s)"
      ],
      "text/plain": [
       "<IPython.core.display.HTML object>"
      ]
     },
     "metadata": {},
     "output_type": "display_data"
    },
    {
     "data": {
      "text/html": [
       "Find logs at: <code>.\\wandb\\run-20240419_234211-kbicr8el\\logs</code>"
      ],
      "text/plain": [
       "<IPython.core.display.HTML object>"
      ]
     },
     "metadata": {},
     "output_type": "display_data"
    },
    {
     "data": {
      "text/html": [
       "Tracking run with wandb version 0.16.6"
      ],
      "text/plain": [
       "<IPython.core.display.HTML object>"
      ]
     },
     "metadata": {},
     "output_type": "display_data"
    },
    {
     "data": {
      "text/html": [
       "Run data is saved locally in <code>e:\\LHK\\Study\\Kaggle\\BirdCLEF2024\\wandb\\run-20240420_005024-7aouunnh</code>"
      ],
      "text/plain": [
       "<IPython.core.display.HTML object>"
      ]
     },
     "metadata": {},
     "output_type": "display_data"
    },
    {
     "data": {
      "text/html": [
       "Syncing run <strong><a href='https://wandb.ai/Kaay/BirdCLEF2024_LeviKaay/runs/7aouunnh' target=\"_blank\">BaseModel_EfficientB0_Fold4_v0.7</a></strong> to <a href='https://wandb.ai/Kaay/BirdCLEF2024_LeviKaay' target=\"_blank\">Weights & Biases</a> (<a href='https://wandb.me/run' target=\"_blank\">docs</a>)<br/>"
      ],
      "text/plain": [
       "<IPython.core.display.HTML object>"
      ]
     },
     "metadata": {},
     "output_type": "display_data"
    },
    {
     "data": {
      "text/html": [
       " View project at <a href='https://wandb.ai/Kaay/BirdCLEF2024_LeviKaay' target=\"_blank\">https://wandb.ai/Kaay/BirdCLEF2024_LeviKaay</a>"
      ],
      "text/plain": [
       "<IPython.core.display.HTML object>"
      ]
     },
     "metadata": {},
     "output_type": "display_data"
    },
    {
     "data": {
      "text/html": [
       " View run at <a href='https://wandb.ai/Kaay/BirdCLEF2024_LeviKaay/runs/7aouunnh' target=\"_blank\">https://wandb.ai/Kaay/BirdCLEF2024_LeviKaay/runs/7aouunnh</a>"
      ],
      "text/plain": [
       "<IPython.core.display.HTML object>"
      ]
     },
     "metadata": {},
     "output_type": "display_data"
    },
    {
     "name": "stdout",
     "output_type": "stream",
     "text": [
      "================================================================\n",
      "==== Running training for fold 4 ====\n",
      "Train Samples: 19568\n",
      "Valid Samples: 4891\n",
      "Epoch 1/10, train_loss: 4.9674, valid_loss: 5.1895 valid_roc_auc: 0.7060, lr: [4.762017696620708e-05]\n",
      "Epoch 2/10, train_loss: 3.2269, valid_loss: 5.0214 valid_roc_auc: 0.9076, lr: [0.00012924034395422874]\n",
      "Epoch 3/10, train_loss: 2.3153, valid_loss: 4.9254 valid_roc_auc: 0.9159, lr: [0.00016999999427681298]\n",
      "Epoch 4/10, train_loss: 1.3566, valid_loss: 4.8956 valid_roc_auc: 0.9182, lr: [0.0001615688486050954]\n",
      "Epoch 5/10, train_loss: 1.2407, valid_loss: 4.8738 valid_roc_auc: 0.9209, lr: [0.00013797237075300592]\n",
      "Epoch 6/10, train_loss: 1.3115, valid_loss: 4.8787 valid_roc_auc: 0.9110, lr: [0.00010388413255096036]\n",
      "Epoch 7/10, train_loss: 1.0099, valid_loss: 4.8630 valid_roc_auc: 0.9215, lr: [6.605572763967985e-05]\n",
      "Epoch 8/10, train_loss: 1.1229, valid_loss: 4.8737 valid_roc_auc: 0.9200, lr: [3.197953554678399e-05]\n",
      "Epoch 9/10, train_loss: 0.9501, valid_loss: 4.8747 valid_roc_auc: 0.9184, lr: [8.404764033341025e-06]\n",
      "Epoch 10/10, train_loss: 1.1625, valid_loss: 4.8774 valid_roc_auc: 0.9176, lr: [6.857231870359144e-10]\n"
     ]
    },
    {
     "data": {
      "text/html": [
       "<style>\n",
       "    table.wandb td:nth-child(1) { padding: 0 10px; text-align: left ; width: auto;} td:nth-child(2) {text-align: left ; width: 100%}\n",
       "    .wandb-row { display: flex; flex-direction: row; flex-wrap: wrap; justify-content: flex-start; width: 100% }\n",
       "    .wandb-col { display: flex; flex-direction: column; flex-basis: 100%; flex: 1; padding: 10px; }\n",
       "    </style>\n",
       "<div class=\"wandb-row\"><div class=\"wandb-col\"><h3>Run history:</h3><br/><table class=\"wandb\"><tr><td>Learning Rate</td><td>▁▁▂▂▃▄▅▆▇▇███████▇▇▇▇▆▆▅▅▅▄▄▄▃▃▃▂▂▂▁▁▁▁▁</td></tr><tr><td>Training Loss</td><td>█▅▃▂▂▂▁▁▁▁</td></tr><tr><td>Valid Loss</td><td>█▄▂▂▁▁▁▁▁▁</td></tr><tr><td>Valid ROC_AUC</td><td>▁█████████</td></tr></table><br/></div><div class=\"wandb-col\"><h3>Run summary:</h3><br/><table class=\"wandb\"><tr><td>Learning Rate</td><td>0.0</td></tr><tr><td>Training Loss</td><td>1.16246</td></tr><tr><td>Valid Loss</td><td>4.87737</td></tr><tr><td>Valid ROC_AUC</td><td>0.91757</td></tr></table><br/></div></div>"
      ],
      "text/plain": [
       "<IPython.core.display.HTML object>"
      ]
     },
     "metadata": {},
     "output_type": "display_data"
    },
    {
     "data": {
      "text/html": [
       " View run <strong style=\"color:#cdcd00\">BaseModel_EfficientB0_Fold4_v0.7</strong> at: <a href='https://wandb.ai/Kaay/BirdCLEF2024_LeviKaay/runs/7aouunnh' target=\"_blank\">https://wandb.ai/Kaay/BirdCLEF2024_LeviKaay/runs/7aouunnh</a><br/> View project at: <a href='https://wandb.ai/Kaay/BirdCLEF2024_LeviKaay' target=\"_blank\">https://wandb.ai/Kaay/BirdCLEF2024_LeviKaay</a><br/>Synced 6 W&B file(s), 0 media file(s), 0 artifact file(s) and 0 other file(s)"
      ],
      "text/plain": [
       "<IPython.core.display.HTML object>"
      ]
     },
     "metadata": {},
     "output_type": "display_data"
    },
    {
     "data": {
      "text/html": [
       "Find logs at: <code>.\\wandb\\run-20240420_005024-7aouunnh\\logs</code>"
      ],
      "text/plain": [
       "<IPython.core.display.HTML object>"
      ]
     },
     "metadata": {},
     "output_type": "display_data"
    }
   ],
   "source": [
    "if not os.path.exists(f\"model/{default_config['VERSION']}\"):\n",
    "    os.makedirs(f\"model/{default_config['VERSION']}\")\n",
    "\n",
    "for f in range(default_config[\"FOLD\"]):\n",
    "    run = wandb.init(project=\"BirdCLEF2024_LeviKaay\", name=f\"BaseModel_EfficientB0_Fold{f}_{default_config['VERSION']}\", entity=\"Kaay\", config=default_config)\n",
    "    \n",
    "    # main loop of f-fold\n",
    "    print('================================================================')\n",
    "    print(f\"==== Running training for fold {f} ====\")\n",
    "    \n",
    "    train_df = meta_data[meta_data['fold'] != f].copy()\n",
    "    valid_df = meta_data[meta_data['fold'] == f].copy()\n",
    "    print(f'Train Samples: {len(train_df)}')\n",
    "    print(f'Valid Samples: {len(valid_df)}')\n",
    "\n",
    "    train_dataset = BirdCLEF_Dataset(train_df)\n",
    "    valid_dataset = BirdCLEF_Dataset(valid_df)\n",
    "\n",
    "    #-------------Over sampling---------------\n",
    "    sample_weights = [0] * len(train_dataset)\n",
    "    for idx, (data, label) in enumerate(train_dataset):\n",
    "        sample_weights[idx] = class_weights[label.item()]\n",
    "\n",
    "    sampler = WeightedRandomSampler(sample_weights, num_samples=len(train_dataset), replacement=True)\n",
    "\n",
    "    train_dataloader = torch.utils.data.DataLoader(train_dataset, batch_size=default_config[\"BACTHSIZE\"], sampler=sampler)\n",
    "    valid_dataloader = torch.utils.data.DataLoader(valid_dataset, batch_size=default_config[\"BACTHSIZE\"], shuffle=True)\n",
    "\n",
    "    model = BirdCLEF_Model_EfficientnetB0(num_class=len(label_list)).to(device)\n",
    "    criterion = nn.CrossEntropyLoss(label_smoothing=default_config[\"LABEL_SMOOTHING\"])\n",
    "    optimizer = torch.optim.Adam(filter(lambda p: p.requires_grad, model.parameters()), lr=1e-3, weight_decay=1e-5)\n",
    "    scheduler = torch.optim.lr_scheduler.OneCycleLR(optimizer, max_lr=0.00017, steps_per_epoch=len(train_dataloader), epochs=default_config[\"EPOCHS\"], anneal_strategy='cos')\n",
    "\n",
    "    # Training loop\n",
    "    for epoch in range(default_config[\"EPOCHS\"]):\n",
    "        for idx,batch in enumerate(train_dataloader):\n",
    "            inputs, targets = batch\n",
    "\n",
    "            inputs = inputs.to(device)\n",
    "            targets = targets.to(device)\n",
    "\n",
    "            optimizer.zero_grad()\n",
    "            # Forward pass\n",
    "            outputs = model(inputs)\n",
    "            \n",
    "            # Compute loss\n",
    "            loss = criterion(outputs, targets)\n",
    "            \n",
    "            # Backward pass and optimization\n",
    "            loss.backward()\n",
    "            optimizer.step()\n",
    "            scheduler.step()\n",
    "            print(f'Step {idx}/{len(train_dataloader)}, Loss: {loss.item():.4f}\\r', end='', flush=True)\n",
    "            wandb.log({\"Learning Rate\": scheduler.get_last_lr()[0]})\n",
    "        \n",
    "        model.eval()\n",
    "        valid_step = []\n",
    "        with torch.no_grad():\n",
    "            for idx, batch in enumerate(valid_dataloader):\n",
    "                inputs, targets = batch\n",
    "                inputs = inputs.to(device)\n",
    "\n",
    "                outputs = model(inputs)\n",
    "                valid_step.append({\"logits\": outputs, \"targets\": targets})\n",
    "            \n",
    "            output_val = nn.Softmax(dim=1)(torch.cat([x['logits'] for x in valid_step], dim=0)).cpu().detach()\n",
    "            target_val = torch.cat([x['targets'] for x in valid_step], dim=0).cpu().detach()\n",
    "\n",
    "            val_loss = criterion(output_val, target_val)\n",
    "            \n",
    "\n",
    "            target_val = torch.nn.functional.one_hot(target_val, len(label_list))\n",
    "            \n",
    "            gt_df = pd.DataFrame(target_val.numpy().astype(np.float32), columns=label_list)\n",
    "            pred_df = pd.DataFrame(output_val.numpy().astype(np.float32), columns=label_list)\n",
    "            \n",
    "            gt_df['id'] = [f'id_{i}' for i in range(len(gt_df))]\n",
    "            pred_df['id'] = [f'id_{i}' for i in range(len(pred_df))]\n",
    "\n",
    "            val_roc_auc = score(gt_df, pred_df, row_id_column_name='id')\n",
    "        \n",
    "        print(f\"Epoch {epoch+1}/{default_config['EPOCHS']}, train_loss: {loss.item():.4f}, valid_loss: {val_loss:.4f} valid_roc_auc: {val_roc_auc:.4f}, lr: {scheduler.get_last_lr()}\")\n",
    "        wandb.log({\"Training Loss\": loss.item(),\"Valid Loss\": val_loss ,\"Valid ROC_AUC\": val_roc_auc})\n",
    "    run.finish()\n",
    "    torch.save(model.state_dict(), f\"model/{default_config['VERSION']}/BaseModel_EfficientB0_Fold{f}.pt\")\n"
   ]
  },
  {
   "cell_type": "code",
   "execution_count": 19,
   "metadata": {},
   "outputs": [],
   "source": [
    "input_tensor = torch.randn(default_config[\"BACTHSIZE\"], 256, 256)"
   ]
  },
  {
   "cell_type": "markdown",
   "metadata": {},
   "source": [
    "### Export model to ONNX"
   ]
  },
  {
   "cell_type": "code",
   "execution_count": 20,
   "metadata": {},
   "outputs": [],
   "source": [
    "  # input shape\n",
    "input_names = ['x']\n",
    "output_names = ['output']\n",
    "\n",
    "for fold in range(default_config[\"FOLD\"]):\n",
    "    bird_model = BirdCLEF_Model_EfficientnetB0(num_class=len(label_list))\n",
    "    weights = torch.load(f\"model/{default_config['VERSION']}/BaseModel_EfficientB0_Fold{fold}.pt\", map_location=torch.device('cpu'))\n",
    "    bird_model.load_state_dict(weights)\n",
    "    bird_model.eval()\n",
    "\n",
    "    torch.onnx.export(bird_model, input_tensor, f\"model/{default_config['VERSION']}/BaseModel_EfficientB0_Fold{fold}.onnx\", input_names=input_names, output_names=output_names)"
   ]
  },
  {
   "cell_type": "markdown",
   "metadata": {},
   "source": [
    "### Export model to OpenVino"
   ]
  },
  {
   "cell_type": "code",
   "execution_count": 21,
   "metadata": {},
   "outputs": [],
   "source": [
    "from openvino.runtime import Core\n",
    "import openvino as ov"
   ]
  },
  {
   "cell_type": "code",
   "execution_count": 22,
   "metadata": {},
   "outputs": [],
   "source": [
    "for fold in range(default_config[\"FOLD\"]):\n",
    "    bird_model = BirdCLEF_Model_EfficientnetB0(num_class=len(label_list))\n",
    "    weights = torch.load(f\"model/{default_config['VERSION']}/BaseModel_EfficientB0_Fold{fold}.pt\", map_location=torch.device('cpu'))\n",
    "    bird_model.load_state_dict(weights)\n",
    "    bird_model.eval()\n",
    "\n",
    "    ov_model = ov.convert_model(bird_model, example_input=input_tensor)\n",
    "    ov.save_model(ov_model, f\"model/{default_config['VERSION']}/BaseModel_EfficientB0_Fold{fold}.xml\")"
   ]
  },
  {
   "cell_type": "code",
   "execution_count": null,
   "metadata": {},
   "outputs": [],
   "source": [
    "ie = Core()\n",
    "classification_model_xml = f\"model/v0.4/BaseModel_EfficientB0_Fold0.xml\"\n",
    "model = ie.read_model(model=classification_model_xml)"
   ]
  }
 ],
 "metadata": {
  "kernelspec": {
   "display_name": "hms",
   "language": "python",
   "name": "python3"
  },
  "language_info": {
   "codemirror_mode": {
    "name": "ipython",
    "version": 3
   },
   "file_extension": ".py",
   "mimetype": "text/x-python",
   "name": "python",
   "nbconvert_exporter": "python",
   "pygments_lexer": "ipython3",
   "version": "3.9.19"
  }
 },
 "nbformat": 4,
 "nbformat_minor": 2
}
