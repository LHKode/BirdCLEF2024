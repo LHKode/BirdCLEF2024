{
 "cells": [
  {
   "cell_type": "code",
   "execution_count": null,
   "metadata": {},
   "outputs": [],
   "source": [
    "def oog2spec_via_cupy(audio_data):\n",
    "    \n",
    "    audio_data = cp.array(audio_data)\n",
    "    \n",
    "    # handles NaNs\n",
    "    mean_signal = cp.nanmean(audio_data)\n",
    "    audio_data = cp.nan_to_num(audio_data, nan=mean_signal) if cp.isnan(audio_data).mean() < 1 else cp.zeros_like(audio_data)\n",
    "    \n",
    "    # to spec.\n",
    "    frequencies, times, spec_data = cupy_signal.spectrogram(\n",
    "        audio_data, \n",
    "        fs=default_config[\"SAMPLE_RATE\"], \n",
    "        nfft=default_config[\"N_FFT\"], \n",
    "        nperseg=default_config[\"WIN_SIZE\"], \n",
    "        noverlap=default_config[\"WIN_LAP\"], \n",
    "        window='hann'\n",
    "    )\n",
    "    \n",
    "    # Filter frequency range\n",
    "    valid_freq = (frequencies >= default_config[\"MIN_FREQ\"]) & (frequencies <= default_config[\"MAX_FREQ\"])\n",
    "    spec_data = spec_data[valid_freq, :]\n",
    "    \n",
    "    # Log\n",
    "    spec_data = cp.log10(spec_data + 1e-20)\n",
    "    \n",
    "    # min/max normalize\n",
    "    spec_data = spec_data - spec_data.min()\n",
    "    spec_data = spec_data / spec_data.max()\n",
    "    \n",
    "    return spec_data.get()"
   ]
  },
  {
   "cell_type": "code",
   "execution_count": null,
   "metadata": {},
   "outputs": [],
   "source": [
    "meta_data = pd.read_csv(f\"{default_config['DATA_PATH']}/train_metadata.csv\")\n",
    "# meta_data = pd.read_csv(f\"inputs/additional_data/BirdClef2024_additional2.csv\")\n",
    "meta_data.drop_duplicates(inplace=True)\n",
    "\n",
    "meta_data.reset_index(drop=True, inplace=True)\n",
    "meta_data = meta_data[[\"filename\",\"primary_label\"]]\n",
    "meta_data"
   ]
  },
  {
   "cell_type": "code",
   "execution_count": null,
   "metadata": {},
   "outputs": [],
   "source": [
    "f = open(\"data/duplicates.txt\", 'r').readlines()\n",
    "dup = [row.split(',')[0] for row in f]\n",
    "print(f\"Get {len(dup)} duplicates file\")\n",
    "for d in dup:\n",
    "    meta_data = meta_data[meta_data.filename!=d]\n",
    "meta_data.reset_index(drop=True)\n",
    "meta_data.drop_duplicates(subset=['filename'], inplace=True)\n",
    "meta_data.reset_index(drop=True, inplace=True)\n",
    "meta_data"
   ]
  },
  {
   "cell_type": "code",
   "execution_count": null,
   "metadata": {},
   "outputs": [],
   "source": [
    "all_bird_data = dict()\n",
    "\n",
    "for i, row_metadata in tqdm(meta_data.iterrows()):\n",
    "\n",
    "        try:\n",
    "                audio_data, _ = librosa.load(f\"inputs/train_audio/{row_metadata.primary_label}/{row_metadata.filename}.wav\", sr=default_config[\"SAMPLE_RATE\"])\n",
    "        except:\n",
    "                continue\n",
    "\n",
    "        n_copy = math.ceil(5 * default_config[\"SAMPLE_RATE\"] / len(audio_data))\n",
    "        if n_copy > 1: audio_data = np.concatenate([audio_data]*n_copy)\n",
    "\n",
    "        # for start_idx in range(0,len(audio_data)-(len(audio_data)%(5*default_config[\"SAMPLE_RATE\"])),5*default_config[\"SAMPLE_RATE\"]):\n",
    "        # start_idx = int(start_idx)\n",
    "        # start_idx = int(len(audio_data) / 2 - 2.5 * default_config[\"SAMPLE_RATE\"])\n",
    "        start_idx = 0\n",
    "        end_idx = int(start_idx + 5.0 * default_config[\"SAMPLE_RATE\"])\n",
    "        input_audio = audio_data[start_idx:end_idx]\n",
    "\n",
    "        # ogg to spec.\n",
    "        input_spec = oog2spec_via_cupy(input_audio)\n",
    "\n",
    "        input_spec = cv2.resize(input_spec, (256, 256), interpolation=cv2.INTER_AREA)\n",
    "\n",
    "        all_bird_data[f\"{row_metadata.primary_label}/{row_metadata.filename}_{start_idx}\"] = input_spec.astype(np.float32)\n",
    "# save to file\n",
    "np.save(os.path.join(\"data\", f'spec_first_5sec_256_256.npy'), all_bird_data)"
   ]
  }
 ],
 "metadata": {
  "language_info": {
   "name": "python"
  }
 },
 "nbformat": 4,
 "nbformat_minor": 2
}
